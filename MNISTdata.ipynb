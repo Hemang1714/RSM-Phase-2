{
  "nbformat": 4,
  "nbformat_minor": 0,
  "metadata": {
    "colab": {
      "provenance": []
    },
    "kernelspec": {
      "name": "python3",
      "display_name": "Python 3"
    },
    "language_info": {
      "name": "python"
    }
  },
  "cells": [
    {
      "cell_type": "code",
      "execution_count": 2,
      "metadata": {
        "id": "Apc3PmYUzVSZ"
      },
      "outputs": [],
      "source": [
        "import numpy as np\n",
        "import time\n",
        "import matplotlib.pyplot\n",
        "%matplotlib inline"
      ]
    },
    {
      "cell_type": "code",
      "source": [
        "def convert(imgf, labelf, outf, n):\n",
        "    f = open(imgf, \"rb\")\n",
        "    o = open(outf, \"w\")\n",
        "    l = open(labelf, \"rb\")\n",
        "\n",
        "    f.read(16)\n",
        "    l.read(8)\n",
        "    images = []\n",
        "\n",
        "    for i in range(n):\n",
        "        image = [ord(l.read(1))]\n",
        "        for j in range(28*28):\n",
        "            image.append(ord(f.read(1)))\n",
        "        images.append(image)\n",
        "\n",
        "    for image in images:\n",
        "        o.write(\",\".join(str(pix) for pix in image)+\"\\n\")\n",
        "    f.close()\n",
        "    o.close()\n",
        "    l.close()\n",
        "     "
      ],
      "metadata": {
        "id": "vjto2Sa01O_-"
      },
      "execution_count": 3,
      "outputs": []
    },
    {
      "cell_type": "code",
      "source": [
        "mnist_train_x = \"/content/drive/MyDrive/MNIST/train-images.idx3-ubyte\"\n",
        "mnist_train_y = \"/content/drive/MyDrive/MNIST/train-labels.idx1-ubyte\"\n",
        "mnist_test_x = \"/content/drive/MyDrive/MNIST/t10k-images.idx3-ubyte\"\n",
        "mnist_test_y = \"/content/drive/MyDrive/MNIST/t10k-labels.idx1-ubyte\""
      ],
      "metadata": {
        "id": "fczq2n3f1WRg"
      },
      "execution_count": 4,
      "outputs": []
    },
    {
      "cell_type": "code",
      "source": [
        "convert(mnist_train_x, mnist_train_y,\"/content/drive/MyDrive/MNIST/train.csv\",60000)\n",
        "convert(mnist_test_x, mnist_test_y,\"/content/drive/MyDrive/MNIST/test.csv\",10000)\n"
      ],
      "metadata": {
        "id": "UZZSiBop1dJM"
      },
      "execution_count": 5,
      "outputs": []
    },
    {
      "cell_type": "code",
      "source": [
        "train_file = open(\"/content/drive/MyDrive/MNIST/train.csv\", \"r\")\n",
        "train_list = train_file.readlines()\n",
        "train_file.close()\n",
        "print(len(train_list))"
      ],
      "metadata": {
        "colab": {
          "base_uri": "https://localhost:8080/"
        },
        "id": "UAYULLAI1k8O",
        "outputId": "165def44-adcf-468d-ea13-7c11507738f0"
      },
      "execution_count": 6,
      "outputs": [
        {
          "output_type": "stream",
          "name": "stdout",
          "text": [
            "60000\n"
          ]
        }
      ]
    },
    {
      "cell_type": "code",
      "source": [
        "train_list[100]"
      ],
      "metadata": {
        "colab": {
          "base_uri": "https://localhost:8080/",
          "height": 191
        },
        "id": "o-nkmMWO1sEj",
        "outputId": "b0dd6c5d-ac33-4c9d-fa0c-30d09c330633"
      },
      "execution_count": 7,
      "outputs": [
        {
          "output_type": "execute_result",
          "data": {
            "text/plain": [
              "'5,0,0,0,0,0,0,0,0,0,0,0,0,0,0,0,0,0,0,0,0,0,0,0,0,0,0,0,0,0,0,0,0,0,0,0,0,0,0,0,0,0,0,0,0,0,0,0,0,0,0,0,0,0,0,0,0,0,0,0,0,0,0,0,0,0,0,0,0,0,0,0,0,0,0,0,0,0,0,0,0,0,0,0,0,0,0,0,0,0,0,0,0,0,0,0,0,0,0,0,0,0,0,0,0,0,0,0,0,0,0,0,0,0,0,0,0,0,0,0,0,0,0,0,0,0,0,0,0,0,0,0,0,0,0,0,0,0,0,0,0,0,0,0,0,0,0,0,0,0,0,0,0,0,0,0,0,0,0,0,0,0,0,0,0,0,0,0,0,0,0,0,0,0,0,0,0,0,0,0,0,0,2,18,46,136,136,244,255,241,103,0,0,0,0,0,0,0,0,0,0,0,0,0,0,0,0,0,15,94,163,253,253,253,253,238,218,204,35,0,0,0,0,0,0,0,0,0,0,0,0,0,0,0,0,0,131,253,253,253,253,237,200,57,0,0,0,0,0,0,0,0,0,0,0,0,0,0,0,0,0,0,0,155,246,253,247,108,65,45,0,0,0,0,0,0,0,0,0,0,0,0,0,0,0,0,0,0,0,0,0,207,253,253,230,0,0,0,0,0,0,0,0,0,0,0,0,0,0,0,0,0,0,0,0,0,0,0,0,157,253,253,125,0,0,0,0,0,0,0,0,0,0,0,0,0,0,0,0,0,0,0,0,0,0,0,0,89,253,250,57,0,0,0,0,0,0,0,0,0,0,0,0,0,0,0,0,0,0,0,0,0,0,0,0,89,253,247,0,0,0,0,0,0,0,0,0,0,0,0,0,0,0,0,0,0,0,0,0,0,0,0,0,89,253,247,0,0,0,0,0,0,0,0,0,0,0,0,0,0,0,0,0,0,0,0,0,0,0,0,0,89,253,247,0,0,0,0,0,0,0,0,0,0,0,0,0,0,0,0,0,0,0,0,0,0,0,0,0,21,231,249,34,0,0,0,0,0,0,0,0,0,0,0,0,0,0,0,0,0,0,0,0,0,0,0,0,0,225,253,231,213,213,123,16,0,0,0,0,0,0,0,0,0,0,0,0,0,0,0,0,0,0,0,0,0,172,253,253,253,253,253,190,63,0,0,0,0,0,0,0,0,0,0,0,0,0,0,0,0,0,0,0,0,2,116,72,124,209,253,253,141,0,0,0,0,0,0,0,0,0,0,0,0,0,0,0,0,0,0,0,0,0,0,0,0,25,219,253,206,3,0,0,0,0,0,0,0,0,0,0,0,0,0,0,0,0,0,0,0,0,0,0,0,0,104,246,253,5,0,0,0,0,0,0,0,0,0,0,0,0,0,0,0,0,0,0,0,0,0,0,0,0,0,213,253,5,0,0,0,0,0,0,0,0,0,0,0,0,0,0,0,0,0,0,0,0,0,0,0,0,26,226,253,5,0,0,0,0,0,0,0,0,0,0,0,0,0,0,0,0,0,0,0,0,0,0,0,0,132,253,209,3,0,0,0,0,0,0,0,0,0,0,0,0,0,0,0,0,0,0,0,0,0,0,0,0,78,253,86,0,0,0,0,0,0,0,0,0,0,0,0,0,0,0,0,0,0,0,0,0,0,0,0,0,0,0,0,0,0,0,0,0,0,0,0,0,0,0,0,0,0,0,0,0,0,0,0,0,0,0,0,0,0,0,0,0,0,0,0,0,0,0,0,0\\n'"
            ],
            "application/vnd.google.colaboratory.intrinsic+json": {
              "type": "string"
            }
          },
          "metadata": {},
          "execution_count": 7
        }
      ]
    },
    {
      "cell_type": "code",
      "source": [
        "all_values = train_list[100].split(',')\n",
        "image_array = np.asfarray(all_values[1:]).reshape((28,28))\n",
        "matplotlib.pyplot.imshow(image_array, cmap='Greys', interpolation='None')\n",
        "     "
      ],
      "metadata": {
        "colab": {
          "base_uri": "https://localhost:8080/",
          "height": 447
        },
        "id": "4X0OXVPn1w67",
        "outputId": "6f52476f-33d8-453c-a161-cf9ddda2f1b4"
      },
      "execution_count": 8,
      "outputs": [
        {
          "output_type": "execute_result",
          "data": {
            "text/plain": [
              "<matplotlib.image.AxesImage at 0x7f8bbce15310>"
            ]
          },
          "metadata": {},
          "execution_count": 8
        },
        {
          "output_type": "display_data",
          "data": {
            "text/plain": [
              "<Figure size 640x480 with 1 Axes>"
            ],
            "image/png": "[encoded data removed]"
          },
          "metadata": {}
        }
      ]
    },
    {
      "cell_type": "code",
      "source": [
        "scaled_input_train = (np.asfarray(all_values[1:]) / 255.0 * 0.99) + 0.01"
      ],
      "metadata": {
        "id": "Paz4EHO410np"
      },
      "execution_count": 9,
      "outputs": []
    },
    {
      "cell_type": "code",
      "source": [
        "test_file = open(\"/content/drive/MyDrive/MNIST/test.csv\", \"r\")\n",
        "test_list = test_file.readlines()\n",
        "test_file.close()\n",
        "print(len(test_list))"
      ],
      "metadata": {
        "colab": {
          "base_uri": "https://localhost:8080/"
        },
        "id": "OhxbJFF817Bq",
        "outputId": "e3fab0c7-6eba-4148-e376-5b0f5b7cf626"
      },
      "execution_count": 10,
      "outputs": [
        {
          "output_type": "stream",
          "name": "stdout",
          "text": [
            "10000\n"
          ]
        }
      ]
    },
    {
      "cell_type": "code",
      "source": [
        "all_values = test_list[100].split(',')\n",
        "image_array = np.asfarray(all_values[1:]).reshape((28,28))\n",
        "matplotlib.pyplot.imshow(image_array, cmap='Greys', interpolation='None')"
      ],
      "metadata": {
        "colab": {
          "base_uri": "https://localhost:8080/",
          "height": 447
        },
        "id": "E2BGE3gD2CkH",
        "outputId": "b878150a-20da-4858-bbcd-159ca6f13b0a"
      },
      "execution_count": 11,
      "outputs": [
        {
          "output_type": "execute_result",
          "data": {
            "text/plain": [
              "<matplotlib.image.AxesImage at 0x7f8bbcde8d00>"
            ]
          },
          "metadata": {},
          "execution_count": 11
        },
        {
          "output_type": "display_data",
          "data": {
            "text/plain": [
              "<Figure size 640x480 with 1 Axes>"
            ],
            "image/png": "[encoded data removed]"
          },
          "metadata": {}
        }
      ]
    },
    {
      "cell_type": "code",
      "source": [
        "scaled_input_test = (np.asfarray(all_values[1:]) / 255.0 * 0.99) + 0.01"
      ],
      "metadata": {
        "id": "Dfp-b9M92Ko4"
      },
      "execution_count": 12,
      "outputs": []
    },
    {
      "cell_type": "code",
      "source": [
        "class DNN:\n",
        "  def __init__(self, sizes, epochs, lr):\n",
        "    self.sizes = sizes\n",
        "    self.epochs = epochs\n",
        "    self.lr = lr\n",
        "\n",
        "    # number of nodes in each layer\n",
        "    input_layer=self.sizes[0]\n",
        "    hidden_1=self.sizes[1]\n",
        "    hidden_2=self.sizes[2]\n",
        "    output_layer=self.sizes[3]\n",
        "\n",
        "    self.params = {\n",
        "        'W1':np.random.randn(hidden_1, input_layer) * np.sqrt(1. / hidden_1),\n",
        "        'W2':np.random.randn(hidden_2, hidden_1) * np.sqrt(1. / hidden_2),\n",
        "        'W3':np.random.randn(output_layer, hidden_2) * np.sqrt(1. / output_layer)\n",
        "    }\n",
        "  def sigmoid(self, x, derivative=False):\n",
        "      if derivative:\n",
        "          return (np.exp(-x))/((np.exp(-x)+1)**2)\n",
        "      return 1/(1 + np.exp(-x))\n",
        "\n",
        "  def softmax(self, x, derivative=False):\n",
        "      # Numerically stable with large exponentials\n",
        "      exps = np.exp(x - x.max())\n",
        "      if derivative:\n",
        "          return exps / np.sum(exps, axis=0) * (1 - exps / np.sum(exps, axis=0))\n",
        "      return exps / np.sum(exps, axis=0)\n",
        "  def forward_pass(self, x_train):\n",
        "      params = self.params\n",
        "\n",
        "      # input layer activations becomes sample\n",
        "      params['A0'] = x_train\n",
        "\n",
        "      # input layer to hidden layer 1\n",
        "      params['Z1'] = np.dot(params[\"W1\"], params['A0'])\n",
        "      params['A1'] = self.sigmoid(params['Z1'])\n",
        "\n",
        "      # hidden layer 1 to hidden layer 2\n",
        "      params['Z2'] = np.dot(params[\"W2\"], params['A1'])\n",
        "      params['A2'] = self.sigmoid(params['Z2'])\n",
        "\n",
        "      # hidden layer 2 to output layer\n",
        "      params['Z3'] = np.dot(params[\"W3\"], params['A2'])\n",
        "      params['A3'] = self.softmax(params['Z3'])\n",
        "\n",
        "      return params['A3']\n",
        "\n",
        "  def backward_pass(self, y_train, output):\n",
        "      '''\n",
        "          This is the backpropagation algorithm, for calculating the updates\n",
        "          of the neural network's parameters.\n",
        "\n",
        "          Note: There is a stability issue that causes warnings. This is \n",
        "                caused  by the dot and multiply operations on the huge arrays.\n",
        "                \n",
        "                RuntimeWarning: invalid value encountered in true_divide\n",
        "                RuntimeWarning: overflow encountered in exp\n",
        "                RuntimeWarning: overflow encountered in square\n",
        "      '''\n",
        "      params = self.params\n",
        "      change_w = {}\n",
        "\n",
        "      # Calculate W3 update\n",
        "      error = 2 * (output - y_train) / output.shape[0] * self.softmax(params['Z3'], derivative=True)\n",
        "      change_w['W3'] = np.outer(error, params['A2'])\n",
        "\n",
        "      # Calculate W2 update\n",
        "      error = np.dot(params['W3'].T, error) * self.sigmoid(params['Z2'], derivative=True)\n",
        "      change_w['W2'] = np.outer(error, params['A1'])\n",
        "\n",
        "      # Calculate W1 update\n",
        "      error = np.dot(params['W2'].T, error) * self.sigmoid(params['Z1'], derivative=True)\n",
        "      change_w['W1'] = np.outer(error, params['A0'])\n",
        "\n",
        "      return change_w\n",
        "\n",
        "  def update_network_parameters(self, changes_to_w):\n",
        "      '''\n",
        "          Update network parameters according to update rule from\n",
        "          Stochastic Gradient Descent.\n",
        "\n",
        "          θ = θ - η * ∇J(x, y), \n",
        "              theta θ:            a network parameter (e.g. a weight w)\n",
        "              eta η:              the learning rate\n",
        "              gradient ∇J(x, y):  the gradient of the objective function,\n",
        "                                  i.e. the change for a specific theta θ\n",
        "      '''\n",
        "      \n",
        "      for key, value in changes_to_w.items():\n",
        "          self.params[key] -= self.lr * value\n",
        "\n",
        "  def compute_accuracy(self, test_data, output_nodes):\n",
        "      '''\n",
        "          This function does a forward pass of x, then checks if the indices\n",
        "          of the maximum value in the output equals the indices in the label\n",
        "          y. Then it sums over each prediction and calculates the accuracy.\n",
        "      '''\n",
        "      predictions = []\n",
        "\n",
        "      for x in train_list:\n",
        "          all_values = x.split(',')\n",
        "          # scale and shift the inputs\n",
        "          inputs = (np.asfarray(all_values[1:]) / 255.0 * 0.99) + 0.01\n",
        "          # create the target output values (all 0.01, except the desired label which is 0.99)\n",
        "          targets = np.zeros(output_nodes) + 0.01\n",
        "          # all_values[0] is the target label for this record\n",
        "          targets[int(all_values[0])] = 0.99\n",
        "          output = self.forward_pass(inputs)\n",
        "          pred = np.argmax(output)\n",
        "          predictions.append(pred == np.argmax(targets))\n",
        "      \n",
        "      return np.mean(predictions)\n",
        "\n",
        "  def train(self, train_list, test_list, output_nodes):\n",
        "      start_time = time.time()\n",
        "      for iteration in range(self.epochs):\n",
        "          for x in train_list:\n",
        "              all_values = x.split(',')\n",
        "              # scale and shift the inputs\n",
        "              inputs = (np.asfarray(all_values[1:]) / 255.0 * 0.99) + 0.01\n",
        "              # create the target output values (all 0.01, except the desired label which is 0.99)\n",
        "              targets = np.zeros(output_nodes) + 0.01\n",
        "              # all_values[0] is the target label for this record\n",
        "              targets[int(all_values[0])] = 0.99\n",
        "              output = self.forward_pass(inputs)\n",
        "              changes_to_w = self.backward_pass(targets, output)\n",
        "              self.update_network_parameters(changes_to_w)\n",
        "          \n",
        "          accuracy = self.compute_accuracy(test_list, output_nodes)\n",
        "          print('Epoch: {0}, Time Spent: {1:.2f}s, Accuracy: {2:.2f}%'.format(\n",
        "              iteration+1, time.time() - start_time, accuracy * 100\n",
        "          ))\n",
        "     \n",
        "\n"
      ],
      "metadata": {
        "id": "dG39IU3K2NRk"
      },
      "execution_count": 13,
      "outputs": []
    },
    {
      "cell_type": "code",
      "source": [
        "dnn = DNN(sizes=[784, 128, 64, 10], epochs=10, lr=0.001)\n",
        "dnn.train(train_list, test_list, 10)"
      ],
      "metadata": {
        "colab": {
          "base_uri": "https://localhost:8080/"
        },
        "id": "r7nYi7GU3Utv",
        "outputId": "3d537d53-586d-476d-b471-d4b903c62ad5"
      },
      "execution_count": 14,
      "outputs": [
        {
          "output_type": "stream",
          "name": "stdout",
          "text": [
            "Epoch: 1, Time Spent: 95.40s, Accuracy: 23.41%\n",
            "Epoch: 2, Time Spent: 188.90s, Accuracy: 34.91%\n",
            "Epoch: 3, Time Spent: 282.82s, Accuracy: 38.82%\n",
            "Epoch: 4, Time Spent: 382.39s, Accuracy: 40.72%\n",
            "Epoch: 5, Time Spent: 476.46s, Accuracy: 43.49%\n",
            "Epoch: 6, Time Spent: 572.80s, Accuracy: 47.95%\n",
            "Epoch: 7, Time Spent: 695.56s, Accuracy: 53.01%\n",
            "Epoch: 8, Time Spent: 801.43s, Accuracy: 57.04%\n",
            "Epoch: 9, Time Spent: 901.47s, Accuracy: 59.69%\n",
            "Epoch: 10, Time Spent: 1000.11s, Accuracy: 61.70%\n"
          ]
        }
      ]
    }
  ]
}